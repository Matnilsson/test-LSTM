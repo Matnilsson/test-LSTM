{
 "cells": [
  {
   "cell_type": "code",
   "execution_count": 29,
   "metadata": {},
   "outputs": [
    {
     "name": "stderr",
     "output_type": "stream",
     "text": [
      "/Library/Frameworks/Python.framework/Versions/3.6/lib/python3.6/site-packages/tensorflow/python/framework/dtypes.py:523: FutureWarning: Passing (type, 1) or '1type' as a synonym of type is deprecated; in a future version of numpy, it will be understood as (type, (1,)) / '(1,)type'.\n",
      "  _np_qint8 = np.dtype([(\"qint8\", np.int8, 1)])\n",
      "/Library/Frameworks/Python.framework/Versions/3.6/lib/python3.6/site-packages/tensorflow/python/framework/dtypes.py:524: FutureWarning: Passing (type, 1) or '1type' as a synonym of type is deprecated; in a future version of numpy, it will be understood as (type, (1,)) / '(1,)type'.\n",
      "  _np_quint8 = np.dtype([(\"quint8\", np.uint8, 1)])\n",
      "/Library/Frameworks/Python.framework/Versions/3.6/lib/python3.6/site-packages/tensorflow/python/framework/dtypes.py:525: FutureWarning: Passing (type, 1) or '1type' as a synonym of type is deprecated; in a future version of numpy, it will be understood as (type, (1,)) / '(1,)type'.\n",
      "  _np_qint16 = np.dtype([(\"qint16\", np.int16, 1)])\n",
      "/Library/Frameworks/Python.framework/Versions/3.6/lib/python3.6/site-packages/tensorflow/python/framework/dtypes.py:526: FutureWarning: Passing (type, 1) or '1type' as a synonym of type is deprecated; in a future version of numpy, it will be understood as (type, (1,)) / '(1,)type'.\n",
      "  _np_quint16 = np.dtype([(\"quint16\", np.uint16, 1)])\n",
      "/Library/Frameworks/Python.framework/Versions/3.6/lib/python3.6/site-packages/tensorflow/python/framework/dtypes.py:527: FutureWarning: Passing (type, 1) or '1type' as a synonym of type is deprecated; in a future version of numpy, it will be understood as (type, (1,)) / '(1,)type'.\n",
      "  _np_qint32 = np.dtype([(\"qint32\", np.int32, 1)])\n",
      "/Library/Frameworks/Python.framework/Versions/3.6/lib/python3.6/site-packages/tensorflow/python/framework/dtypes.py:532: FutureWarning: Passing (type, 1) or '1type' as a synonym of type is deprecated; in a future version of numpy, it will be understood as (type, (1,)) / '(1,)type'.\n",
      "  np_resource = np.dtype([(\"resource\", np.ubyte, 1)])\n",
      "/Library/Frameworks/Python.framework/Versions/3.6/lib/python3.6/site-packages/h5py/__init__.py:36: FutureWarning: Conversion of the second argument of issubdtype from `float` to `np.floating` is deprecated. In future, it will be treated as `np.float64 == np.dtype(float).type`.\n",
      "  from ._conv import register_converters as _register_converters\n",
      "Using TensorFlow backend.\n"
     ]
    }
   ],
   "source": [
    "import pandas as pd\n",
    "import matplotlib.pyplot as plt\n",
    "import numpy as np\n",
    "from sklearn.preprocessing import MinMaxScaler\n",
    "from sklearn.model_selection import train_test_split\n",
    "import tensorflow as tf\n",
    "from keras.models import Sequential\n",
    "from keras.layers import Dense\n",
    "from keras.layers import LSTM"
   ]
  },
  {
   "cell_type": "code",
   "execution_count": 1,
   "metadata": {},
   "outputs": [
    {
     "ename": "NameError",
     "evalue": "name 'pd' is not defined",
     "output_type": "error",
     "traceback": [
      "\u001b[0;31m---------------------------------------------------------------------------\u001b[0m",
      "\u001b[0;31mNameError\u001b[0m                                 Traceback (most recent call last)",
      "\u001b[0;32m<ipython-input-1-eb4160820810>\u001b[0m in \u001b[0;36m<module>\u001b[0;34m()\u001b[0m\n\u001b[0;32m----> 1\u001b[0;31m \u001b[0mdf\u001b[0m \u001b[0;34m=\u001b[0m \u001b[0mpd\u001b[0m\u001b[0;34m.\u001b[0m\u001b[0mread_csv\u001b[0m\u001b[0;34m(\u001b[0m\u001b[0;34m\"CADJPY_2020.csv\"\u001b[0m\u001b[0;34m)\u001b[0m\u001b[0;34m\u001b[0m\u001b[0m\n\u001b[0m\u001b[1;32m      2\u001b[0m \u001b[0mdf\u001b[0m\u001b[0;34m[\u001b[0m\u001b[0;34m'time'\u001b[0m\u001b[0;34m]\u001b[0m \u001b[0;34m=\u001b[0m \u001b[0mdf\u001b[0m\u001b[0;34m[\u001b[0m\u001b[0;34m'Local time'\u001b[0m\u001b[0;34m]\u001b[0m\u001b[0;34m.\u001b[0m\u001b[0mto_datetime\u001b[0m\u001b[0;34m(\u001b[0m\u001b[0;34m)\u001b[0m\u001b[0;34m\u001b[0m\u001b[0m\n",
      "\u001b[0;31mNameError\u001b[0m: name 'pd' is not defined"
     ]
    }
   ],
   "source": [
    "df = pd.read_csv(\"CADJPY_2020.csv\")\n"
   ]
  },
  {
   "cell_type": "code",
   "execution_count": 31,
   "metadata": {},
   "outputs": [
    {
     "data": {
      "image/png": "[encoded data removed]",
      "text/plain": [
       "<matplotlib.figure.Figure at 0x12e4df748>"
      ]
     },
     "metadata": {},
     "output_type": "display_data"
    }
   ],
   "source": [
    "df.plot(x = 'Local time',y = 'Open')\n",
    "plt.show()\n"
   ]
  },
  {
   "cell_type": "code",
   "execution_count": 125,
   "metadata": {},
   "outputs": [],
   "source": [
    "time_steps_input = 30\n",
    "x_temp = df['Open'].values\n",
    "x_temp = x_temp[:x_temp.shape[0] - 30]\n",
    "scaler = MinMaxScaler(feature_range = (0,1))\n",
    "x_temp = scaler.fit_transform(x_temp.reshape(-1,1))\n",
    "\n",
    "\n",
    "x = np.zeros((x_temp.shape[0], time_steps_input, 1))\n",
    "\n",
    "for row in range(x_temp.shape[0] - 29):\n",
    "    for time_step in range(time_steps_input):\n",
    "        x[row,time_step,0] = x_temp[row + time_step, 0]\n",
    "    "
   ]
  },
  {
   "cell_type": "code",
   "execution_count": 126,
   "metadata": {},
   "outputs": [],
   "source": [
    "time_steps_output = 30\n",
    "y_temp = df['Open'].values\n",
    "y_temp = y_temp[time_steps_input:y_temp.shape[0] + time_steps_input]\n",
    "y = np.zeros((x.shape[0], time_steps_output))\n",
    "for row in range(y_temp.shape[0] - 29):\n",
    "    for time_step in range(time_steps_output):\n",
    "        y[row, time_step] = y_temp[row + time_step]\n",
    "y = scaler.fit_transform(y)\n"
   ]
  },
  {
   "cell_type": "code",
   "execution_count": 127,
   "metadata": {},
   "outputs": [],
   "source": [
    "x = x[:x.shape[0]-29,:,:]\n",
    "y = y[:y.shape[0]-29,:]"
   ]
  },
  {
   "cell_type": "code",
   "execution_count": 128,
   "metadata": {},
   "outputs": [
    {
     "name": "stdout",
     "output_type": "stream",
     "text": [
      "(66181, 30)\n",
      "(66181, 30, 1)\n"
     ]
    }
   ],
   "source": [
    "print(y.shape)\n",
    "print(x.shape)"
   ]
  },
  {
   "cell_type": "code",
   "execution_count": 129,
   "metadata": {},
   "outputs": [],
   "source": [
    "x_train, x_test, y_train, y_test = train_test_split(x, y, test_size=0.1, shuffle = False)"
   ]
  },
  {
   "cell_type": "code",
   "execution_count": 130,
   "metadata": {},
   "outputs": [
    {
     "name": "stdout",
     "output_type": "stream",
     "text": [
      "Epoch 1/50\n",
      " - 56s - loss: 0.0123 - acc: 0.0235\n",
      "Epoch 2/50\n",
      " - 54s - loss: 1.9086e-06 - acc: 0.0428\n",
      "Epoch 3/50\n",
      " - 54s - loss: 6.8408e-07 - acc: 0.0609\n",
      "Epoch 4/50\n",
      " - 55s - loss: 7.4628e-07 - acc: 0.0348\n",
      "Epoch 5/50\n",
      " - 55s - loss: 1.1955e-06 - acc: 0.0310\n",
      "Epoch 6/50\n",
      " - 60s - loss: 1.1826e-06 - acc: 0.0376\n",
      "Epoch 7/50\n",
      " - 59s - loss: 1.1278e-06 - acc: 0.0364\n",
      "Epoch 8/50\n",
      " - 57s - loss: 1.0804e-06 - acc: 0.0368\n",
      "Epoch 9/50\n",
      " - 61s - loss: 1.0217e-06 - acc: 0.0354\n",
      "Epoch 10/50\n",
      " - 54s - loss: 9.7285e-07 - acc: 0.0398\n",
      "Epoch 11/50\n",
      " - 54s - loss: 9.7124e-07 - acc: 0.0469\n",
      "Epoch 12/50\n",
      " - 54s - loss: 9.1201e-07 - acc: 0.0412\n",
      "Epoch 13/50\n",
      " - 54s - loss: 9.1185e-07 - acc: 0.0454\n",
      "Epoch 14/50\n",
      " - 55s - loss: 8.5411e-07 - acc: 0.0421\n",
      "Epoch 15/50\n",
      " - 481s - loss: 8.7978e-07 - acc: 0.0438\n",
      "Epoch 16/50\n",
      " - 55s - loss: 8.4190e-07 - acc: 0.0501\n",
      "Epoch 17/50\n",
      " - 54s - loss: 8.6033e-07 - acc: 0.0476\n",
      "Epoch 18/50\n",
      " - 54s - loss: 8.3203e-07 - acc: 0.0456\n",
      "Epoch 19/50\n",
      " - 55s - loss: 7.9708e-07 - acc: 0.0436\n",
      "Epoch 20/50\n",
      " - 64s - loss: 7.8315e-07 - acc: 0.0444\n",
      "Epoch 21/50\n",
      " - 60s - loss: 7.8085e-07 - acc: 0.0497\n",
      "Epoch 22/50\n",
      " - 55s - loss: 7.7119e-07 - acc: 0.0474\n",
      "Epoch 23/50\n",
      " - 54s - loss: 7.5132e-07 - acc: 0.0513\n",
      "Epoch 24/50\n",
      " - 54s - loss: 7.8004e-07 - acc: 0.0458\n",
      "Epoch 25/50\n",
      " - 55s - loss: 7.3263e-07 - acc: 0.0455\n",
      "Epoch 26/50\n",
      " - 55s - loss: 7.4082e-07 - acc: 0.0482\n",
      "Epoch 27/50\n",
      " - 54s - loss: 7.3387e-07 - acc: 0.0434\n",
      "Epoch 28/50\n",
      " - 54s - loss: 7.3202e-07 - acc: 0.0524\n",
      "Epoch 29/50\n",
      " - 54s - loss: 7.2103e-07 - acc: 0.0509\n",
      "Epoch 30/50\n",
      " - 54s - loss: 7.1174e-07 - acc: 0.0426\n",
      "Epoch 31/50\n",
      " - 54s - loss: 6.8087e-07 - acc: 0.0451\n",
      "Epoch 32/50\n",
      " - 54s - loss: 6.9494e-07 - acc: 0.0426\n",
      "Epoch 33/50\n",
      " - 54s - loss: 6.6720e-07 - acc: 0.0425\n",
      "Epoch 34/50\n",
      " - 54s - loss: 6.8878e-07 - acc: 0.0431\n",
      "Epoch 35/50\n",
      " - 54s - loss: 6.4832e-07 - acc: 0.0458\n",
      "Epoch 36/50\n",
      " - 55s - loss: 6.8839e-07 - acc: 0.0417\n",
      "Epoch 37/50\n",
      " - 55s - loss: 6.5771e-07 - acc: 0.0425\n",
      "Epoch 38/50\n",
      " - 63s - loss: 6.4473e-07 - acc: 0.0484\n",
      "Epoch 39/50\n",
      " - 67s - loss: 6.3432e-07 - acc: 0.0403\n",
      "Epoch 40/50\n",
      " - 60s - loss: 6.4490e-07 - acc: 0.0493\n",
      "Epoch 41/50\n",
      " - 60s - loss: 6.2908e-07 - acc: 0.0425\n",
      "Epoch 42/50\n",
      " - 57s - loss: 6.2878e-07 - acc: 0.0435\n",
      "Epoch 43/50\n",
      " - 54s - loss: 6.2582e-07 - acc: 0.0418\n",
      "Epoch 44/50\n",
      " - 54s - loss: 6.0574e-07 - acc: 0.0446\n",
      "Epoch 45/50\n",
      " - 54s - loss: 6.3785e-07 - acc: 0.0410\n",
      "Epoch 46/50\n",
      " - 54s - loss: 6.1386e-07 - acc: 0.0395\n",
      "Epoch 47/50\n",
      " - 54s - loss: 5.9515e-07 - acc: 0.0422\n",
      "Epoch 48/50\n",
      " - 54s - loss: 6.0075e-07 - acc: 0.0381\n",
      "Epoch 49/50\n",
      " - 57s - loss: 5.9336e-07 - acc: 0.0390\n",
      "Epoch 50/50\n",
      " - 55s - loss: 5.9687e-07 - acc: 0.0415\n"
     ]
    }
   ],
   "source": [
    "model = Sequential()\n",
    "model.add(LSTM((50), input_shape=(x_train.shape[1], x_train.shape[2])))\n",
    "model.add(Dense(y_train.shape[1]))\n",
    "model.compile(loss='mean_squared_error', metrics = ['acc'], optimizer='adam')\n",
    "history = model.fit(x_train, y_train, epochs=50, batch_size=32, verbose=2)"
   ]
  },
  {
   "cell_type": "code",
   "execution_count": 131,
   "metadata": {},
   "outputs": [
    {
     "data": {
      "image/png": "[encoded data removed]",
      "text/plain": [
       "<matplotlib.figure.Figure at 0x13047d940>"
      ]
     },
     "metadata": {},
     "output_type": "display_data"
    }
   ],
   "source": [
    "plt.plot(history.history['loss'])\n",
    "plt.xlabel('Epoch')\n",
    "plt.ylabel('Loss')\n",
    "plt.show()"
   ]
  },
  {
   "cell_type": "code",
   "execution_count": 132,
   "metadata": {},
   "outputs": [],
   "source": [
    "results = model.predict(x_test)"
   ]
  },
  {
   "cell_type": "code",
   "execution_count": 138,
   "metadata": {},
   "outputs": [
    {
     "data": {
      "image/png": "[encoded data removed]",
      "text/plain": [
       "<matplotlib.figure.Figure at 0x11778efd0>"
      ]
     },
     "metadata": {},
     "output_type": "display_data"
    }
   ],
   "source": [
    "plt.scatter(range(results.shape[0]), results[:, 29], c = 'r', label = 'predictions')\n",
    "plt.scatter(range(results.shape[0]), y_test[:, 29], c = 'g', label = 'real values')\n",
    "plt.legend(prop = {'size': 10})\n",
    "plt.show()"
   ]
  },
  {
   "cell_type": "code",
   "execution_count": null,
   "metadata": {},
   "outputs": [],
   "source": []
  }
 ],
 "metadata": {
  "kernelspec": {
   "display_name": "Python 3",
   "language": "python",
   "name": "python3"
  },
  "language_info": {
   "codemirror_mode": {
    "name": "ipython",
    "version": 3
   },
   "file_extension": ".py",
   "mimetype": "text/x-python",
   "name": "python",
   "nbconvert_exporter": "python",
   "pygments_lexer": "ipython3",
   "version": "3.6.4"
  }
 },
 "nbformat": 4,
 "nbformat_minor": 2
}
