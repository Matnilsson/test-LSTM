{
 "cells": [
  {
   "cell_type": "code",
   "execution_count": 1,
   "metadata": {},
   "outputs": [],
   "source": [
    "import pandas as pd\n",
    "import matplotlib.pyplot as plt\n",
    "import numpy as np"
   ]
  },
  {
   "cell_type": "code",
   "execution_count": 41,
   "metadata": {},
   "outputs": [
    {
     "data": {
      "text/html": [
       "<div>\n",
       "<style scoped>\n",
       "    .dataframe tbody tr th:only-of-type {\n",
       "        vertical-align: middle;\n",
       "    }\n",
       "\n",
       "    .dataframe tbody tr th {\n",
       "        vertical-align: top;\n",
       "    }\n",
       "\n",
       "    .dataframe thead th {\n",
       "        text-align: right;\n",
       "    }\n",
       "</style>\n",
       "<table border=\"1\" class=\"dataframe\">\n",
       "  <thead>\n",
       "    <tr style=\"text-align: right;\">\n",
       "      <th></th>\n",
       "      <th>Local time</th>\n",
       "      <th>Open</th>\n",
       "      <th>High</th>\n",
       "      <th>Low</th>\n",
       "      <th>Close</th>\n",
       "      <th>Volume</th>\n",
       "    </tr>\n",
       "  </thead>\n",
       "  <tbody>\n",
       "    <tr>\n",
       "      <th>0</th>\n",
       "      <td>30.03.2017 00:00:00.000 GMT+0200</td>\n",
       "      <td>111.008</td>\n",
       "      <td>111.022</td>\n",
       "      <td>111.008</td>\n",
       "      <td>111.014</td>\n",
       "      <td>30.53</td>\n",
       "    </tr>\n",
       "    <tr>\n",
       "      <th>1</th>\n",
       "      <td>30.03.2017 00:01:00.000 GMT+0200</td>\n",
       "      <td>111.013</td>\n",
       "      <td>111.020</td>\n",
       "      <td>111.010</td>\n",
       "      <td>111.014</td>\n",
       "      <td>67.69</td>\n",
       "    </tr>\n",
       "    <tr>\n",
       "      <th>2</th>\n",
       "      <td>30.03.2017 00:02:00.000 GMT+0200</td>\n",
       "      <td>111.013</td>\n",
       "      <td>111.014</td>\n",
       "      <td>111.009</td>\n",
       "      <td>111.011</td>\n",
       "      <td>19.01</td>\n",
       "    </tr>\n",
       "    <tr>\n",
       "      <th>3</th>\n",
       "      <td>30.03.2017 00:03:00.000 GMT+0200</td>\n",
       "      <td>111.012</td>\n",
       "      <td>111.020</td>\n",
       "      <td>111.010</td>\n",
       "      <td>111.013</td>\n",
       "      <td>35.76</td>\n",
       "    </tr>\n",
       "    <tr>\n",
       "      <th>4</th>\n",
       "      <td>30.03.2017 00:04:00.000 GMT+0200</td>\n",
       "      <td>111.015</td>\n",
       "      <td>111.015</td>\n",
       "      <td>111.010</td>\n",
       "      <td>111.012</td>\n",
       "      <td>32.10</td>\n",
       "    </tr>\n",
       "  </tbody>\n",
       "</table>\n",
       "</div>"
      ],
      "text/plain": [
       "                         Local time     Open     High      Low    Close  \\\n",
       "0  30.03.2017 00:00:00.000 GMT+0200  111.008  111.022  111.008  111.014   \n",
       "1  30.03.2017 00:01:00.000 GMT+0200  111.013  111.020  111.010  111.014   \n",
       "2  30.03.2017 00:02:00.000 GMT+0200  111.013  111.014  111.009  111.011   \n",
       "3  30.03.2017 00:03:00.000 GMT+0200  111.012  111.020  111.010  111.013   \n",
       "4  30.03.2017 00:04:00.000 GMT+0200  111.015  111.015  111.010  111.012   \n",
       "\n",
       "   Volume  \n",
       "0   30.53  \n",
       "1   67.69  \n",
       "2   19.01  \n",
       "3   35.76  \n",
       "4   32.10  "
      ]
     },
     "execution_count": 41,
     "metadata": {},
     "output_type": "execute_result"
    }
   ],
   "source": [
    "df = pd.read_csv(\"USDJPY_1M_3Y.csv\")\n",
    "#df = df.drop(['Open', 'High', 'Low', 'Local time'], axis = 1)\n",
    "df.head()"
   ]
  },
  {
   "cell_type": "code",
   "execution_count": null,
   "metadata": {},
   "outputs": [],
   "source": [
    "df['VxC'] = df['Volume'] * df['Close']\n",
    "vwap_steps = 20\n",
    "df['vwap{}'.format(vwap_steps)] = 0\n",
    "for i in range(vwap_steps, df.shape[0] + 1):\n",
    "    df.loc[i - 1,'vwap{}'.format(vwap_steps)] = df.loc[i-vwap_steps:i,'VxC'].sum() / df.loc[i-vwap_steps:i,'Volume'].sum()\n",
    "    if(i % 100000):\n",
    "        print(i)\n",
    "df = df[vwap_steps - 1:]\n",
    "df.drop['VxC', axis = 1]\n",
    "df.reset_index(drop=True, inplace=True)"
   ]
  },
  {
   "cell_type": "markdown",
   "metadata": {},
   "source": [
    "## Save Dateframe"
   ]
  },
  {
   "cell_type": "code",
   "execution_count": 40,
   "metadata": {},
   "outputs": [],
   "source": [
    "file_name = 'main_USDJPY_1M.csv'\n",
    "df.to_csv(file_name, index = True)"
   ]
  },
  {
   "cell_type": "code",
   "execution_count": null,
   "metadata": {},
   "outputs": [],
   "source": []
  }
 ],
 "metadata": {
  "kernelspec": {
   "display_name": "Python 3",
   "language": "python",
   "name": "python3"
  },
  "language_info": {
   "codemirror_mode": {
    "name": "ipython",
    "version": 3
   },
   "file_extension": ".py",
   "mimetype": "text/x-python",
   "name": "python",
   "nbconvert_exporter": "python",
   "pygments_lexer": "ipython3",
   "version": "3.6.4"
  }
 },
 "nbformat": 4,
 "nbformat_minor": 2
}
