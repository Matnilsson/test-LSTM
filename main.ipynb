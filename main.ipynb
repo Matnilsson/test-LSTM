{
 "cells": [
  {
   "cell_type": "code",
   "execution_count": 1,
   "metadata": {},
   "outputs": [
    {
     "name": "stderr",
     "output_type": "stream",
     "text": [
      "/Library/Frameworks/Python.framework/Versions/3.6/lib/python3.6/site-packages/h5py/__init__.py:36: FutureWarning: Conversion of the second argument of issubdtype from `float` to `np.floating` is deprecated. In future, it will be treated as `np.float64 == np.dtype(float).type`.\n",
      "  from ._conv import register_converters as _register_converters\n",
      "Using TensorFlow backend.\n",
      "/Library/Frameworks/Python.framework/Versions/3.6/lib/python3.6/site-packages/tensorflow/python/framework/dtypes.py:523: FutureWarning: Passing (type, 1) or '1type' as a synonym of type is deprecated; in a future version of numpy, it will be understood as (type, (1,)) / '(1,)type'.\n",
      "  _np_qint8 = np.dtype([(\"qint8\", np.int8, 1)])\n",
      "/Library/Frameworks/Python.framework/Versions/3.6/lib/python3.6/site-packages/tensorflow/python/framework/dtypes.py:524: FutureWarning: Passing (type, 1) or '1type' as a synonym of type is deprecated; in a future version of numpy, it will be understood as (type, (1,)) / '(1,)type'.\n",
      "  _np_quint8 = np.dtype([(\"quint8\", np.uint8, 1)])\n",
      "/Library/Frameworks/Python.framework/Versions/3.6/lib/python3.6/site-packages/tensorflow/python/framework/dtypes.py:525: FutureWarning: Passing (type, 1) or '1type' as a synonym of type is deprecated; in a future version of numpy, it will be understood as (type, (1,)) / '(1,)type'.\n",
      "  _np_qint16 = np.dtype([(\"qint16\", np.int16, 1)])\n",
      "/Library/Frameworks/Python.framework/Versions/3.6/lib/python3.6/site-packages/tensorflow/python/framework/dtypes.py:526: FutureWarning: Passing (type, 1) or '1type' as a synonym of type is deprecated; in a future version of numpy, it will be understood as (type, (1,)) / '(1,)type'.\n",
      "  _np_quint16 = np.dtype([(\"quint16\", np.uint16, 1)])\n",
      "/Library/Frameworks/Python.framework/Versions/3.6/lib/python3.6/site-packages/tensorflow/python/framework/dtypes.py:527: FutureWarning: Passing (type, 1) or '1type' as a synonym of type is deprecated; in a future version of numpy, it will be understood as (type, (1,)) / '(1,)type'.\n",
      "  _np_qint32 = np.dtype([(\"qint32\", np.int32, 1)])\n",
      "/Library/Frameworks/Python.framework/Versions/3.6/lib/python3.6/site-packages/tensorflow/python/framework/dtypes.py:532: FutureWarning: Passing (type, 1) or '1type' as a synonym of type is deprecated; in a future version of numpy, it will be understood as (type, (1,)) / '(1,)type'.\n",
      "  np_resource = np.dtype([(\"resource\", np.ubyte, 1)])\n"
     ]
    }
   ],
   "source": [
    "import pandas as pd\n",
    "import matplotlib.pyplot as plt\n",
    "import numpy as np\n",
    "\n",
    "from sklearn.preprocessing import MinMaxScaler\n",
    "from keras.models import Sequential\n",
    "from keras.layers import Dense, Input, concatenate, LSTM, Dropout\n",
    "from keras.models import model_from_json, Model\n",
    "from keras.callbacks import EarlyStopping"
   ]
  },
  {
   "cell_type": "markdown",
   "metadata": {},
   "source": [
    "# Prepare Data"
   ]
  },
  {
   "cell_type": "code",
   "execution_count": 2,
   "metadata": {},
   "outputs": [
    {
     "data": {
      "text/html": [
       "<div>\n",
       "<style scoped>\n",
       "    .dataframe tbody tr th:only-of-type {\n",
       "        vertical-align: middle;\n",
       "    }\n",
       "\n",
       "    .dataframe tbody tr th {\n",
       "        vertical-align: top;\n",
       "    }\n",
       "\n",
       "    .dataframe thead th {\n",
       "        text-align: right;\n",
       "    }\n",
       "</style>\n",
       "<table border=\"1\" class=\"dataframe\">\n",
       "  <thead>\n",
       "    <tr style=\"text-align: right;\">\n",
       "      <th></th>\n",
       "      <th>Unnamed: 0</th>\n",
       "      <th>Local time</th>\n",
       "      <th>Close</th>\n",
       "      <th>Volume</th>\n",
       "      <th>VxC</th>\n",
       "      <th>vwap20</th>\n",
       "    </tr>\n",
       "  </thead>\n",
       "  <tbody>\n",
       "    <tr>\n",
       "      <th>0</th>\n",
       "      <td>19</td>\n",
       "      <td>30.03.2017 00:19:00.000 GMT+0200</td>\n",
       "      <td>111.077</td>\n",
       "      <td>58.31</td>\n",
       "      <td>6476.89987</td>\n",
       "      <td>111.038814</td>\n",
       "    </tr>\n",
       "    <tr>\n",
       "      <th>1</th>\n",
       "      <td>20</td>\n",
       "      <td>30.03.2017 00:20:00.000 GMT+0200</td>\n",
       "      <td>111.069</td>\n",
       "      <td>43.85</td>\n",
       "      <td>4870.37565</td>\n",
       "      <td>111.040495</td>\n",
       "    </tr>\n",
       "    <tr>\n",
       "      <th>2</th>\n",
       "      <td>21</td>\n",
       "      <td>30.03.2017 00:21:00.000 GMT+0200</td>\n",
       "      <td>111.079</td>\n",
       "      <td>19.87</td>\n",
       "      <td>2207.13973</td>\n",
       "      <td>111.044022</td>\n",
       "    </tr>\n",
       "    <tr>\n",
       "      <th>3</th>\n",
       "      <td>22</td>\n",
       "      <td>30.03.2017 00:22:00.000 GMT+0200</td>\n",
       "      <td>111.095</td>\n",
       "      <td>24.20</td>\n",
       "      <td>2688.49900</td>\n",
       "      <td>111.046828</td>\n",
       "    </tr>\n",
       "    <tr>\n",
       "      <th>4</th>\n",
       "      <td>23</td>\n",
       "      <td>30.03.2017 00:23:00.000 GMT+0200</td>\n",
       "      <td>111.093</td>\n",
       "      <td>38.87</td>\n",
       "      <td>4318.18491</td>\n",
       "      <td>111.049688</td>\n",
       "    </tr>\n",
       "  </tbody>\n",
       "</table>\n",
       "</div>"
      ],
      "text/plain": [
       "   Unnamed: 0                        Local time    Close  Volume         VxC  \\\n",
       "0          19  30.03.2017 00:19:00.000 GMT+0200  111.077   58.31  6476.89987   \n",
       "1          20  30.03.2017 00:20:00.000 GMT+0200  111.069   43.85  4870.37565   \n",
       "2          21  30.03.2017 00:21:00.000 GMT+0200  111.079   19.87  2207.13973   \n",
       "3          22  30.03.2017 00:22:00.000 GMT+0200  111.095   24.20  2688.49900   \n",
       "4          23  30.03.2017 00:23:00.000 GMT+0200  111.093   38.87  4318.18491   \n",
       "\n",
       "       vwap20  \n",
       "0  111.038814  \n",
       "1  111.040495  \n",
       "2  111.044022  \n",
       "3  111.046828  \n",
       "4  111.049688  "
      ]
     },
     "execution_count": 2,
     "metadata": {},
     "output_type": "execute_result"
    }
   ],
   "source": [
    "df = pd.read_csv(\"main_USDJPY_1M.csv\")\n",
    "df.head()"
   ]
  },
  {
   "cell_type": "code",
   "execution_count": 7,
   "metadata": {},
   "outputs": [
    {
     "data": {
      "text/html": [
       "<div>\n",
       "<style scoped>\n",
       "    .dataframe tbody tr th:only-of-type {\n",
       "        vertical-align: middle;\n",
       "    }\n",
       "\n",
       "    .dataframe tbody tr th {\n",
       "        vertical-align: top;\n",
       "    }\n",
       "\n",
       "    .dataframe thead th {\n",
       "        text-align: right;\n",
       "    }\n",
       "</style>\n",
       "<table border=\"1\" class=\"dataframe\">\n",
       "  <thead>\n",
       "    <tr style=\"text-align: right;\">\n",
       "      <th></th>\n",
       "      <th>Unnamed: 0</th>\n",
       "      <th>Local time</th>\n",
       "      <th>Close</th>\n",
       "      <th>Volume</th>\n",
       "      <th>VxC</th>\n",
       "      <th>vwap20</th>\n",
       "    </tr>\n",
       "  </thead>\n",
       "  <tbody>\n",
       "    <tr>\n",
       "      <th>1066681</th>\n",
       "      <td>1066700</td>\n",
       "      <td>07.02.2020 22:54:00.000 GMT+0100</td>\n",
       "      <td>109.778</td>\n",
       "      <td>146.65</td>\n",
       "      <td>16098.94370</td>\n",
       "      <td>109.774359</td>\n",
       "    </tr>\n",
       "    <tr>\n",
       "      <th>1066682</th>\n",
       "      <td>1066701</td>\n",
       "      <td>07.02.2020 22:55:00.000 GMT+0100</td>\n",
       "      <td>109.763</td>\n",
       "      <td>197.10</td>\n",
       "      <td>21634.28730</td>\n",
       "      <td>109.773697</td>\n",
       "    </tr>\n",
       "    <tr>\n",
       "      <th>1066683</th>\n",
       "      <td>1066702</td>\n",
       "      <td>07.02.2020 22:56:00.000 GMT+0100</td>\n",
       "      <td>109.763</td>\n",
       "      <td>81.41</td>\n",
       "      <td>8935.80583</td>\n",
       "      <td>109.773393</td>\n",
       "    </tr>\n",
       "    <tr>\n",
       "      <th>1066684</th>\n",
       "      <td>1066703</td>\n",
       "      <td>07.02.2020 22:57:00.000 GMT+0100</td>\n",
       "      <td>109.766</td>\n",
       "      <td>62.80</td>\n",
       "      <td>6893.30480</td>\n",
       "      <td>109.772936</td>\n",
       "    </tr>\n",
       "    <tr>\n",
       "      <th>1066685</th>\n",
       "      <td>1066704</td>\n",
       "      <td>07.02.2020 22:58:00.000 GMT+0100</td>\n",
       "      <td>109.766</td>\n",
       "      <td>37.32</td>\n",
       "      <td>4096.46712</td>\n",
       "      <td>109.770399</td>\n",
       "    </tr>\n",
       "  </tbody>\n",
       "</table>\n",
       "</div>"
      ],
      "text/plain": [
       "         Unnamed: 0                        Local time    Close  Volume  \\\n",
       "1066681     1066700  07.02.2020 22:54:00.000 GMT+0100  109.778  146.65   \n",
       "1066682     1066701  07.02.2020 22:55:00.000 GMT+0100  109.763  197.10   \n",
       "1066683     1066702  07.02.2020 22:56:00.000 GMT+0100  109.763   81.41   \n",
       "1066684     1066703  07.02.2020 22:57:00.000 GMT+0100  109.766   62.80   \n",
       "1066685     1066704  07.02.2020 22:58:00.000 GMT+0100  109.766   37.32   \n",
       "\n",
       "                 VxC      vwap20  \n",
       "1066681  16098.94370  109.774359  \n",
       "1066682  21634.28730  109.773697  \n",
       "1066683   8935.80583  109.773393  \n",
       "1066684   6893.30480  109.772936  \n",
       "1066685   4096.46712  109.770399  "
      ]
     },
     "execution_count": 7,
     "metadata": {},
     "output_type": "execute_result"
    }
   ],
   "source": []
  },
  {
   "cell_type": "code",
   "execution_count": 3,
   "metadata": {},
   "outputs": [
    {
     "data": {
      "text/html": [
       "<div>\n",
       "<style scoped>\n",
       "    .dataframe tbody tr th:only-of-type {\n",
       "        vertical-align: middle;\n",
       "    }\n",
       "\n",
       "    .dataframe tbody tr th {\n",
       "        vertical-align: top;\n",
       "    }\n",
       "\n",
       "    .dataframe thead th {\n",
       "        text-align: right;\n",
       "    }\n",
       "</style>\n",
       "<table border=\"1\" class=\"dataframe\">\n",
       "  <thead>\n",
       "    <tr style=\"text-align: right;\">\n",
       "      <th></th>\n",
       "      <th>Local time</th>\n",
       "      <th>Close</th>\n",
       "      <th>Volume</th>\n",
       "    </tr>\n",
       "  </thead>\n",
       "  <tbody>\n",
       "    <tr>\n",
       "      <th>0</th>\n",
       "      <td>30.03.2017 00:00:00.000 GMT+0200</td>\n",
       "      <td>111.014</td>\n",
       "      <td>30.53</td>\n",
       "    </tr>\n",
       "    <tr>\n",
       "      <th>1</th>\n",
       "      <td>30.03.2017 00:01:00.000 GMT+0200</td>\n",
       "      <td>111.014</td>\n",
       "      <td>67.69</td>\n",
       "    </tr>\n",
       "    <tr>\n",
       "      <th>2</th>\n",
       "      <td>30.03.2017 00:02:00.000 GMT+0200</td>\n",
       "      <td>111.011</td>\n",
       "      <td>19.01</td>\n",
       "    </tr>\n",
       "    <tr>\n",
       "      <th>3</th>\n",
       "      <td>30.03.2017 00:03:00.000 GMT+0200</td>\n",
       "      <td>111.013</td>\n",
       "      <td>35.76</td>\n",
       "    </tr>\n",
       "    <tr>\n",
       "      <th>4</th>\n",
       "      <td>30.03.2017 00:04:00.000 GMT+0200</td>\n",
       "      <td>111.012</td>\n",
       "      <td>32.10</td>\n",
       "    </tr>\n",
       "  </tbody>\n",
       "</table>\n",
       "</div>"
      ],
      "text/plain": [
       "                         Local time    Close  Volume\n",
       "0  30.03.2017 00:00:00.000 GMT+0200  111.014   30.53\n",
       "1  30.03.2017 00:01:00.000 GMT+0200  111.014   67.69\n",
       "2  30.03.2017 00:02:00.000 GMT+0200  111.011   19.01\n",
       "3  30.03.2017 00:03:00.000 GMT+0200  111.013   35.76\n",
       "4  30.03.2017 00:04:00.000 GMT+0200  111.012   32.10"
      ]
     },
     "execution_count": 3,
     "metadata": {},
     "output_type": "execute_result"
    }
   ],
   "source": [
    "#df.drop('Gmt time', axis=1, inplace=True)\n",
    "#df.drop('Local time', axis=1, inplace=True)\n",
    "df = df.loc[:,['Local time', 'Close', 'Volume']]\n",
    "#df.reset_index(drop=True, inplace=True)\n",
    "\n",
    "df.head()\n",
    "#df = df.query('Volume != 0')\n",
    "#df['time'] = pd.to_datetime(df['Local time'])\n",
    "#df['day'] = df['time'].dt.dayofweek"
   ]
  },
  {
   "cell_type": "code",
   "execution_count": 7,
   "metadata": {},
   "outputs": [
    {
     "name": "stdout",
     "output_type": "stream",
     "text": [
      "(1066706, 5)\n"
     ]
    }
   ],
   "source": [
    "df['VxC'] = df['Volume'] * df['Close']\n",
    "vwap_steps = 20\n",
    "df['vwap{}'.format(vwap_steps)] = 0\n",
    "print(df.shape)\n",
    "for i in range(vwap_steps, df.shape[0] + 1):\n",
    "    df.loc[i - 1,'vwap{}'.format(vwap_steps)] = df.loc[i-vwap_steps:i,'VxC'].sum() / df.loc[i-vwap_steps:i,'Volume'].sum()\n",
    "df = df[vwap_steps - 1:]"
   ]
  },
  {
   "cell_type": "code",
   "execution_count": 38,
   "metadata": {},
   "outputs": [
    {
     "data": {
      "text/html": [
       "<div>\n",
       "<style scoped>\n",
       "    .dataframe tbody tr th:only-of-type {\n",
       "        vertical-align: middle;\n",
       "    }\n",
       "\n",
       "    .dataframe tbody tr th {\n",
       "        vertical-align: top;\n",
       "    }\n",
       "\n",
       "    .dataframe thead th {\n",
       "        text-align: right;\n",
       "    }\n",
       "</style>\n",
       "<table border=\"1\" class=\"dataframe\">\n",
       "  <thead>\n",
       "    <tr style=\"text-align: right;\">\n",
       "      <th></th>\n",
       "      <th>Local time</th>\n",
       "      <th>Close</th>\n",
       "      <th>Volume</th>\n",
       "      <th>VxC</th>\n",
       "      <th>vwap20</th>\n",
       "    </tr>\n",
       "  </thead>\n",
       "  <tbody>\n",
       "    <tr>\n",
       "      <th>0</th>\n",
       "      <td>30.03.2017 00:19:00.000 GMT+0200</td>\n",
       "      <td>111.077</td>\n",
       "      <td>58.31</td>\n",
       "      <td>6476.89987</td>\n",
       "      <td>111.038814</td>\n",
       "    </tr>\n",
       "    <tr>\n",
       "      <th>1</th>\n",
       "      <td>30.03.2017 00:20:00.000 GMT+0200</td>\n",
       "      <td>111.069</td>\n",
       "      <td>43.85</td>\n",
       "      <td>4870.37565</td>\n",
       "      <td>111.040495</td>\n",
       "    </tr>\n",
       "    <tr>\n",
       "      <th>2</th>\n",
       "      <td>30.03.2017 00:21:00.000 GMT+0200</td>\n",
       "      <td>111.079</td>\n",
       "      <td>19.87</td>\n",
       "      <td>2207.13973</td>\n",
       "      <td>111.044022</td>\n",
       "    </tr>\n",
       "    <tr>\n",
       "      <th>3</th>\n",
       "      <td>30.03.2017 00:22:00.000 GMT+0200</td>\n",
       "      <td>111.095</td>\n",
       "      <td>24.20</td>\n",
       "      <td>2688.49900</td>\n",
       "      <td>111.046828</td>\n",
       "    </tr>\n",
       "    <tr>\n",
       "      <th>4</th>\n",
       "      <td>30.03.2017 00:23:00.000 GMT+0200</td>\n",
       "      <td>111.093</td>\n",
       "      <td>38.87</td>\n",
       "      <td>4318.18491</td>\n",
       "      <td>111.049688</td>\n",
       "    </tr>\n",
       "  </tbody>\n",
       "</table>\n",
       "</div>"
      ],
      "text/plain": [
       "                         Local time    Close  Volume         VxC      vwap20\n",
       "0  30.03.2017 00:19:00.000 GMT+0200  111.077   58.31  6476.89987  111.038814\n",
       "1  30.03.2017 00:20:00.000 GMT+0200  111.069   43.85  4870.37565  111.040495\n",
       "2  30.03.2017 00:21:00.000 GMT+0200  111.079   19.87  2207.13973  111.044022\n",
       "3  30.03.2017 00:22:00.000 GMT+0200  111.095   24.20  2688.49900  111.046828\n",
       "4  30.03.2017 00:23:00.000 GMT+0200  111.093   38.87  4318.18491  111.049688"
      ]
     },
     "execution_count": 38,
     "metadata": {},
     "output_type": "execute_result"
    }
   ],
   "source": [
    "df.head()"
   ]
  },
  {
   "cell_type": "code",
   "execution_count": 8,
   "metadata": {},
   "outputs": [
    {
     "name": "stderr",
     "output_type": "stream",
     "text": [
      "/Library/Frameworks/Python.framework/Versions/3.6/lib/python3.6/site-packages/pandas/plotting/_core.py:1716: UserWarning: Pandas doesn't allow columns to be created via a new attribute name - see https://pandas.pydata.org/pandas-docs/stable/indexing.html#attribute-access\n",
      "  series.name = label\n"
     ]
    },
    {
     "data": {
      "text/html": [
       "<div>\n",
       "<style scoped>\n",
       "    .dataframe tbody tr th:only-of-type {\n",
       "        vertical-align: middle;\n",
       "    }\n",
       "\n",
       "    .dataframe tbody tr th {\n",
       "        vertical-align: top;\n",
       "    }\n",
       "\n",
       "    .dataframe thead th {\n",
       "        text-align: right;\n",
       "    }\n",
       "</style>\n",
       "<table border=\"1\" class=\"dataframe\">\n",
       "  <thead>\n",
       "    <tr style=\"text-align: right;\">\n",
       "      <th></th>\n",
       "      <th>Close</th>\n",
       "      <th>vwap20</th>\n",
       "    </tr>\n",
       "  </thead>\n",
       "  <tbody>\n",
       "    <tr>\n",
       "      <th>0</th>\n",
       "      <td>111.077</td>\n",
       "      <td>111.038814</td>\n",
       "    </tr>\n",
       "    <tr>\n",
       "      <th>1</th>\n",
       "      <td>111.069</td>\n",
       "      <td>111.040495</td>\n",
       "    </tr>\n",
       "    <tr>\n",
       "      <th>2</th>\n",
       "      <td>111.079</td>\n",
       "      <td>111.044022</td>\n",
       "    </tr>\n",
       "    <tr>\n",
       "      <th>3</th>\n",
       "      <td>111.095</td>\n",
       "      <td>111.046828</td>\n",
       "    </tr>\n",
       "    <tr>\n",
       "      <th>4</th>\n",
       "      <td>111.093</td>\n",
       "      <td>111.049688</td>\n",
       "    </tr>\n",
       "  </tbody>\n",
       "</table>\n",
       "</div>"
      ],
      "text/plain": [
       "     Close      vwap20\n",
       "0  111.077  111.038814\n",
       "1  111.069  111.040495\n",
       "2  111.079  111.044022\n",
       "3  111.095  111.046828\n",
       "4  111.093  111.049688"
      ]
     },
     "execution_count": 8,
     "metadata": {},
     "output_type": "execute_result"
    },
    {
     "data": {
      "image/png": "[encoded data removed]",
      "text/plain": [
       "<matplotlib.figure.Figure at 0x10d1f1400>"
      ]
     },
     "metadata": {},
     "output_type": "display_data"
    }
   ],
   "source": [
    "\n",
    "df = df.loc[:,['Close', 'vwap20']]\n",
    "df[1000:1200].plot(y = ['vwap20', 'Close'])\n",
    "df.head()"
   ]
  },
  {
   "cell_type": "code",
   "execution_count": 10,
   "metadata": {},
   "outputs": [],
   "source": [
    "scaler = MinMaxScaler(feature_range = (0,1))\n",
    "df = scaler.fit_transform(df)\n",
    "time_lags = 10\n",
    "n_outputs = 5\n",
    "n_samples = df.shape[0] - time_lags - n_outputs + 1\n",
    "X = np.zeros((n_samples, time_lags, df.shape[1]))\n",
    "Y = np.zeros((n_samples, n_outputs))\n",
    "\n",
    "for sample in range(n_samples):\n",
    "    pred_index = sample+time_lags\n",
    "    X[sample,:, :] = df[sample:pred_index, :]\n",
    "    Y[sample,:] = df[pred_index:pred_index+n_outputs,0]  "
   ]
  },
  {
   "cell_type": "code",
   "execution_count": 13,
   "metadata": {},
   "outputs": [
    {
     "data": {
      "text/plain": [
       "(426656, 5)"
      ]
     },
     "execution_count": 13,
     "metadata": {},
     "output_type": "execute_result"
    }
   ],
   "source": [
    "batch_size = 32\n",
    "upper_limit = X.shape[0] - (X.shape[0] % batch_size)\n",
    "X = X[:upper_limit]\n",
    "Y = Y[:upper_limit]\n",
    "\n",
    "test_percentage = 0.4\n",
    "test_limit = int(X.shape[0] * test_percentage - X.shape[0] * test_percentage % batch_size)\n",
    "\n",
    "X_train = X[:test_limit]\n",
    "X_test = X[test_limit:]\n",
    "Y_train = Y[:test_limit]\n",
    "Y_test = Y[test_limit:]\n",
    "Y_train.shape"
   ]
  },
  {
   "cell_type": "markdown",
   "metadata": {},
   "source": [
    "# Build Model"
   ]
  },
  {
   "cell_type": "code",
   "execution_count": 14,
   "metadata": {},
   "outputs": [
    {
     "name": "stdout",
     "output_type": "stream",
     "text": [
      "Train on 426656 samples, validate on 640000 samples\n",
      "Epoch 1/10\n",
      " - 348s - loss: 6.6693e-04 - acc: 0.1924 - val_loss: 0.0455 - val_acc: 0.2014\n",
      "Epoch 2/10\n",
      " - 389s - loss: 3.7600e-04 - acc: 0.1966 - val_loss: 0.0447 - val_acc: 0.1963\n",
      "Epoch 3/10\n",
      " - 306s - loss: 4.0056e-04 - acc: 0.2089 - val_loss: 0.0423 - val_acc: 0.2107\n",
      "Epoch 4/10\n",
      " - 316s - loss: 4.1307e-04 - acc: 0.2100 - val_loss: 0.0420 - val_acc: 0.2861\n",
      "Epoch 5/10\n",
      " - 323s - loss: 4.1036e-04 - acc: 0.1950 - val_loss: 0.0415 - val_acc: 0.2285\n",
      "Epoch 6/10\n",
      " - 317s - loss: 3.9695e-04 - acc: 0.1893 - val_loss: 0.0387 - val_acc: 0.1721\n",
      "Epoch 7/10\n",
      " - 309s - loss: 3.7342e-04 - acc: 0.1837 - val_loss: 0.0375 - val_acc: 0.2013\n",
      "Epoch 8/10\n",
      " - 306s - loss: 3.6607e-04 - acc: 0.1888 - val_loss: 0.0379 - val_acc: 0.2217\n",
      "Epoch 9/10\n",
      " - 322s - loss: 3.5641e-04 - acc: 0.1889 - val_loss: 0.0338 - val_acc: 0.1995\n",
      "Epoch 10/10\n",
      " - 290s - loss: 3.3789e-04 - acc: 0.1943 - val_loss: 0.0302 - val_acc: 0.2313\n"
     ]
    }
   ],
   "source": [
    "n_nodes_1 = 60\n",
    "n_nodes_2 = 20\n",
    "epochs = 10\n",
    "\n",
    "lowest_mse = 1000\n",
    "#for n_nodes_1 in range(50,110,50):\n",
    " #   for n_nodes_2 in range(10,100,30):\n",
    "model = Sequential()\n",
    "model.add(LSTM(n_nodes_1, activation='tanh', dropout = 0.1, recurrent_dropout = 0.1, \n",
    "               return_sequences = True, stateful = True, batch_input_shape = (batch_size, time_lags, X.shape[2])))\n",
    "model.add(LSTM(n_nodes_2, activation='tanh', dropout = 0.1, recurrent_dropout = 0.1, return_sequences = False, stateful = True))\n",
    "\n",
    "model.add(Dense(Y_train.shape[1]))\n",
    "model.compile(loss='mean_squared_error', metrics = ['acc'], optimizer='adam')\n",
    "history = model.fit(\n",
    "                X_train, \n",
    "                Y_train, \n",
    "                epochs = epochs, \n",
    "                batch_size = batch_size, \n",
    "                verbose = 2,\n",
    "                validation_data = (X_test, Y_test),\n",
    "                shuffle = False)\n",
    "if(min(history.history['val_loss']) < lowest_mse):\n",
    "    lowet_mse = min(history.history['val_loss'])\n",
    "    best_model = model\n",
    "\n",
    "#print(n_1)\n",
    "#print(n_2)\n",
    "#print(min(history.history['val_loss']))\n",
    "#print()\n",
    "\n",
    "        \n",
    "\n"
   ]
  },
  {
   "cell_type": "code",
   "execution_count": 15,
   "metadata": {},
   "outputs": [],
   "source": [
    "predictions = model.predict(X_test)"
   ]
  },
  {
   "cell_type": "code",
   "execution_count": 16,
   "metadata": {},
   "outputs": [
    {
     "ename": "IndexError",
     "evalue": "index 24 is out of bounds for axis 1 with size 10",
     "output_type": "error",
     "traceback": [
      "\u001b[0;31m---------------------------------------------------------------------------\u001b[0m",
      "\u001b[0;31mIndexError\u001b[0m                                Traceback (most recent call last)",
      "\u001b[0;32m<ipython-input-16-9a7a69edc88e>\u001b[0m in \u001b[0;36m<module>\u001b[0;34m()\u001b[0m\n\u001b[1;32m      3\u001b[0m \u001b[0mplt\u001b[0m\u001b[0;34m.\u001b[0m\u001b[0mplot\u001b[0m\u001b[0;34m(\u001b[0m\u001b[0mY_test\u001b[0m\u001b[0;34m[\u001b[0m\u001b[0mx_low\u001b[0m\u001b[0;34m:\u001b[0m\u001b[0mx_high\u001b[0m\u001b[0;34m]\u001b[0m\u001b[0;34m)\u001b[0m\u001b[0;34m\u001b[0m\u001b[0m\n\u001b[1;32m      4\u001b[0m \u001b[0mplt\u001b[0m\u001b[0;34m.\u001b[0m\u001b[0mplot\u001b[0m\u001b[0;34m(\u001b[0m\u001b[0mpredictions\u001b[0m\u001b[0;34m[\u001b[0m\u001b[0mx_low\u001b[0m\u001b[0;34m:\u001b[0m\u001b[0mx_high\u001b[0m\u001b[0;34m]\u001b[0m\u001b[0;34m)\u001b[0m\u001b[0;34m\u001b[0m\u001b[0m\n\u001b[0;32m----> 5\u001b[0;31m \u001b[0mplt\u001b[0m\u001b[0;34m.\u001b[0m\u001b[0mplot\u001b[0m\u001b[0;34m(\u001b[0m\u001b[0mX_test\u001b[0m\u001b[0;34m[\u001b[0m\u001b[0mx_low\u001b[0m\u001b[0;34m:\u001b[0m\u001b[0mx_high\u001b[0m\u001b[0;34m,\u001b[0m\u001b[0;36m24\u001b[0m\u001b[0;34m,\u001b[0m\u001b[0;36m1\u001b[0m\u001b[0;34m]\u001b[0m\u001b[0;34m)\u001b[0m\u001b[0;34m\u001b[0m\u001b[0m\n\u001b[0m\u001b[1;32m      6\u001b[0m \u001b[0mplt\u001b[0m\u001b[0;34m.\u001b[0m\u001b[0mplot\u001b[0m\u001b[0;34m(\u001b[0m\u001b[0;34m)\u001b[0m\u001b[0;34m\u001b[0m\u001b[0m\n\u001b[1;32m      7\u001b[0m \u001b[0mplt\u001b[0m\u001b[0;34m.\u001b[0m\u001b[0mshow\u001b[0m\u001b[0;34m(\u001b[0m\u001b[0;34m)\u001b[0m\u001b[0;34m\u001b[0m\u001b[0m\n",
      "\u001b[0;31mIndexError\u001b[0m: index 24 is out of bounds for axis 1 with size 10"
     ]
    },
    {
     "data": {
      "image/png": "[encoded data removed]",
      "text/plain": [
       "<matplotlib.figure.Figure at 0x1310ee748>"
      ]
     },
     "metadata": {},
     "output_type": "display_data"
    }
   ],
   "source": [
    "x_low = 0\n",
    "x_high = 252000\n",
    "plt.plot(Y_test[x_low:x_high])\n",
    "plt.plot(predictions[x_low:x_high])\n",
    "plt.plot(X_test[x_low:x_high,24,1])\n",
    "plt.plot()\n",
    "plt.show()"
   ]
  },
  {
   "cell_type": "code",
   "execution_count": 247,
   "metadata": {},
   "outputs": [
    {
     "data": {
      "text/plain": [
       "(6233, 1)"
      ]
     },
     "execution_count": 247,
     "metadata": {},
     "output_type": "execute_result"
    }
   ],
   "source": [
    "predictions.shape"
   ]
  },
  {
   "cell_type": "code",
   "execution_count": 69,
   "metadata": {},
   "outputs": [],
   "source": [
    "predictions +=0.04"
   ]
  },
  {
   "cell_type": "code",
   "execution_count": 17,
   "metadata": {},
   "outputs": [
    {
     "name": "stdout",
     "output_type": "stream",
     "text": [
      "0.4528897701402658\n"
     ]
    }
   ],
   "source": [
    "count = 0\n",
    "count_wrong = 0\n",
    "long = 0\n",
    "short = 0\n",
    "time_step = 4\n",
    "for i in range(1,Y_test.shape[0]):\n",
    "    if(Y_test[i,time_step] < Y_test[i-1,time_step] and predictions[i,time_step] < Y_test[i-1,time_step]):\n",
    "        count = count + 1\n",
    "        short +=1\n",
    "    elif(Y_test[i,time_step] > Y_test[i-1,time_step] and predictions[i,time_step] > Y_test[i-1,time_step]):\n",
    "        count = count + 1\n",
    "        long +=1\n",
    "    else:\n",
    "        count_wrong = count_wrong + 1\n",
    "\n",
    "correct_perc = count / (Y_test.shape[0] - 1)\n",
    "print(correct_perc)\n",
    "\n",
    "        "
   ]
  },
  {
   "cell_type": "code",
   "execution_count": 55,
   "metadata": {},
   "outputs": [
    {
     "name": "stdout",
     "output_type": "stream",
     "text": [
      "short: 158733\n",
      "long: 54610\n",
      "same: 0\n"
     ]
    },
    {
     "data": {
      "text/plain": [
       "0.568871943914914"
      ]
     },
     "execution_count": 55,
     "metadata": {},
     "output_type": "execute_result"
    }
   ],
   "source": [
    "long_pred = 0\n",
    "short_pred = 0\n",
    "same_pred = 0\n",
    "for i in range(1,Y_test.shape[0]):\n",
    "    if(predictions[i,0] < Y_test[i-1,0]):\n",
    "        short_pred+=1\n",
    "    elif(predictions[i,0] > Y_test[i-1,0]):\n",
    "        long_pred+=1\n",
    "    else:\n",
    "        same+=1\n",
    "print('short: {}'.format(short_pred))\n",
    "print('long: {}'.format(long_pred))\n",
    "print('same: {}'.format(same_pred))\n",
    "\n",
    "54610/95997"
   ]
  },
  {
   "cell_type": "code",
   "execution_count": 50,
   "metadata": {},
   "outputs": [
    {
     "name": "stdout",
     "output_type": "stream",
     "text": [
      "95951\n",
      "95997\n",
      "394312\n",
      "392749\n"
     ]
    }
   ],
   "source": [
    "long = 0\n",
    "short = 0\n",
    "for i in range(1,Y_test.shape[0]):\n",
    "    if(Y_test[i,0] > Y_test[i-1,0]):\n",
    "        long += 1\n",
    "    elif(Y_test[i,0] < Y_test[i-1,0]):\n",
    "        short += 1\n",
    "\n",
    "long_train = 0\n",
    "short_train = 0\n",
    "for i in range(1,Y_train.shape[0]):\n",
    "    if(Y_train[i,0] > Y_train[i-1,0]):\n",
    "        long_train += 1\n",
    "    elif(Y_train[i,0] < Y_train[i-1,0]):\n",
    "        short_train += 1\n",
    "print(short)\n",
    "print(long)\n",
    "\n",
    "print(short_train)\n",
    "print(long_train)"
   ]
  },
  {
   "cell_type": "code",
   "execution_count": 63,
   "metadata": {},
   "outputs": [
    {
     "data": {
      "text/plain": [
       "(213344, 25, 2)"
      ]
     },
     "execution_count": 63,
     "metadata": {},
     "output_type": "execute_result"
    }
   ],
   "source": [
    "X_test.shape"
   ]
  },
  {
   "cell_type": "code",
   "execution_count": 31,
   "metadata": {},
   "outputs": [],
   "source": [
    "df = pd.read_csv(\"test.csv\", names = ['date','open','high', 'low', 'close', 'volume'], sep = ';')\n"
   ]
  },
  {
   "cell_type": "markdown",
   "metadata": {},
   "source": [
    "# Save Dataframe"
   ]
  },
  {
   "cell_type": "code",
   "execution_count": 36,
   "metadata": {},
   "outputs": [
    {
     "data": {
      "text/plain": [
       "<matplotlib.axes._subplots.AxesSubplot at 0x1331b9ef0>"
      ]
     },
     "execution_count": 36,
     "metadata": {},
     "output_type": "execute_result"
    },
    {
     "data": {
      "image/png": "[encoded data removed]",
      "text/plain": [
       "<matplotlib.figure.Figure at 0x133e33b70>"
      ]
     },
     "metadata": {},
     "output_type": "display_data"
    }
   ],
   "source": [
    "df.to_csv('main_USDJPY_1M.csv', index = True)"
   ]
  }
 ],
 "metadata": {
  "kernelspec": {
   "display_name": "Python 3",
   "language": "python",
   "name": "python3"
  },
  "language_info": {
   "codemirror_mode": {
    "name": "ipython",
    "version": 3
   },
   "file_extension": ".py",
   "mimetype": "text/x-python",
   "name": "python",
   "nbconvert_exporter": "python",
   "pygments_lexer": "ipython3",
   "version": "3.6.4"
  }
 },
 "nbformat": 4,
 "nbformat_minor": 2
}
